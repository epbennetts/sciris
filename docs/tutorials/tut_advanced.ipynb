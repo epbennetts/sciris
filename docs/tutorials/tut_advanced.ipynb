{
 "cells": [
  {
   "cell_type": "markdown",
   "metadata": {},
   "source": [
    "# Advanced features\n",
    "\n",
    "Here are yet more tools that the average user won't need, but might come in handy one day."
   ]
  },
  {
   "cell_type": "markdown",
   "metadata": {},
   "source": [
    "<div class=\"alert alert-info\">\n",
    "    \n",
    "Click [here](https://mybinder.org/v2/gh/sciris/sciris/HEAD?labpath=docs%2Ftutorials%2Ftut_advanced.ipynb) to open an interactive version of this notebook.\n",
    "    \n",
    "</div>\n"
   ]
  },
  {
   "cell_type": "markdown",
   "metadata": {},
   "source": [
    "## Nested dictionaries\n",
    "\n",
    "Nested dictionaries are a useful way of storing complex data (and in fact are more or less the basis of JSON), but can be a pain to interact with if you don't know the structure in advance. Sciris has several functions for working with nested dictionaries. For example:"
   ]
  },
  {
   "cell_type": "code",
   "execution_count": 36,
   "metadata": {},
   "outputs": [
    {
     "name": "stdout",
     "output_type": "stream",
     "text": [
      "{\n",
      "  \"key1\": {\n",
      "    \"key1.1\": 1,\n",
      "    \"key1.2\": 2,\n",
      "    \"key1.3\": 3\n",
      "  },\n",
      "  \"key2\": {\n",
      "    \"key2.1\": {\n",
      "      \"key2.1.1\": 4\n",
      "    },\n",
      "    \"key2.2\": {\n",
      "      \"key2.2.1\": 5\n",
      "    }\n",
      "  }\n",
      "}\n",
      "values = [1, 2, 3, 4, 5]\n"
     ]
    }
   ],
   "source": [
    "# Create the structure\n",
    "nest = {}\n",
    "sc.makenested(nest, ['key1','key1.1'])\n",
    "sc.makenested(nest, ['key1','key1.2'])\n",
    "sc.makenested(nest, ['key1','key1.3'])\n",
    "sc.makenested(nest, ['key2','key2.1','key2.1.1'])\n",
    "sc.makenested(nest, ['key2','key2.2','key2.2.1'])\n",
    "\n",
    "# Set the value for each \"twig\"\n",
    "count = 0\n",
    "for twig in sc.iternested(nest):\n",
    "    count += 1\n",
    "    sc.setnested(nest, twig, count)\n",
    "\n",
    "# Convert to a JSON to view the structure more clearly\n",
    "print(sc.jsonify(nest, tostring=True, indent=2))\n",
    "\n",
    "# Get all the values from the dict\n",
    "values = []\n",
    "for twig in sc.iternested(nest):\n",
    "    values.append(sc.getnested(nest, twig))\n",
    "print(f'{values = }')"
   ]
  },
  {
   "cell_type": "markdown",
   "metadata": {},
   "source": [
    "Sciris also has a `sc.search()` function, which can find either keys or values that match a certain pattern:"
   ]
  },
  {
   "cell_type": "code",
   "execution_count": 37,
   "metadata": {},
   "outputs": [
    {
     "data": {
      "text/plain": [
       "['[\"key2\"][\"key2.1\"][\"key2.1.1\"]']"
      ]
     },
     "execution_count": 37,
     "metadata": {},
     "output_type": "execute_result"
    }
   ],
   "source": [
    "sc.search(nest, 'key2.1.1')"
   ]
  },
  {
   "cell_type": "markdown",
   "metadata": {},
   "source": [
    "## Context blocks\n",
    "\n",
    "Sciris contains two context block (i.e. \"`with ... as`\") functions. `sc.capture()` captures all text output to a variable:"
   ]
  },
  {
   "cell_type": "code",
   "execution_count": 1,
   "metadata": {},
   "outputs": [
    {
     "name": "stdout",
     "output_type": "stream",
     "text": [
      "Found target 777 on line 2: Here are 5 random numbers: [0.20024906 0.09723019 0.05976333 0.53658667 0.12670777]\n",
      "Found target 777 on line 11: Here are 5 random numbers: [0.33444882 0.02532097 0.95377056 0.77741777 0.28999047]\n",
      "Found target 777 on line 58: Here are 5 random numbers: [0.1383464  0.3598439  0.80452086 0.43989053 0.64677706]\n",
      "Found target 777 on line 96: Here are 5 random numbers: [0.72454901 0.19531496 0.11828539 0.06684828 0.27666777]\n",
      "Found target 777 on line 132: Here are 5 random numbers: [0.75777038 0.9176525  0.11328141 0.36774105 0.50332344]\n",
      "Found target 777 on line 139: Here are 5 random numbers: [0.93438528 0.27410525 0.93587777 0.88834389 0.27494035]\n",
      "Found target 777 on line 176: Here are 5 random numbers: [0.55227985 0.34197792 0.16343966 0.85617774 0.1674729 ]\n",
      "Found target 777 on line 178: Here are 5 random numbers: [0.18168374 0.16429653 0.65479102 0.43399611 0.77750141]\n"
     ]
    }
   ],
   "source": [
    "import sciris as sc\n",
    "import numpy as np\n",
    "\n",
    "def verbose_func(n=200):\n",
    "    for i in range(n):\n",
    "        print(f'Here are 5 random numbers: {np.random.rand(5)}')\n",
    "\n",
    "with sc.capture() as output:\n",
    "    verbose_func()\n",
    "\n",
    "lines = output.splitlines()\n",
    "target = '777'\n",
    "for l,line in enumerate(lines):\n",
    "    if target in line:\n",
    "        print(f'Found target {target} on line {l}: {line}')"
   ]
  },
  {
   "cell_type": "markdown",
   "metadata": {},
   "source": [
    "The other function, `sc.tryexcept()`, is a more compact way of writing `try ... except` blocks, and gives detailed control of error handling:"
   ]
  },
  {
   "cell_type": "code",
   "execution_count": 19,
   "metadata": {},
   "outputs": [
    {
     "name": "stdout",
     "output_type": "stream",
     "text": [
      "\u001b[36m\n",
      "\n",
      "\n",
      "————————————————————————————————————————————————\n",
      "Simple usage, exit gracefully at first exception\n",
      "————————————————————————————————————————————————\n",
      "\u001b[0m\n",
      "<class 'ValueError'> Value 0.003459556628609084 too small\n",
      "\u001b[36m\n",
      "\n",
      "\n",
      "——————————————————————————————\n",
      "Store all history\n",
      "——————————————————————————————\n",
      "\u001b[0m\n"
     ]
    },
    {
     "data": {
      "text/html": [
       "<div>\n",
       "<style scoped>\n",
       "    .dataframe tbody tr th:only-of-type {\n",
       "        vertical-align: middle;\n",
       "    }\n",
       "\n",
       "    .dataframe tbody tr th {\n",
       "        vertical-align: top;\n",
       "    }\n",
       "\n",
       "    .dataframe thead th {\n",
       "        text-align: right;\n",
       "    }\n",
       "</style>\n",
       "<table border=\"1\" class=\"dataframe\">\n",
       "  <thead>\n",
       "    <tr style=\"text-align: right;\">\n",
       "      <th></th>\n",
       "      <th>type</th>\n",
       "      <th>value</th>\n",
       "      <th>traceback</th>\n",
       "    </tr>\n",
       "  </thead>\n",
       "  <tbody>\n",
       "    <tr>\n",
       "      <th>0</th>\n",
       "      <td>&lt;class 'ValueError'&gt;</td>\n",
       "      <td>Value 0.0006810155790507588 too small</td>\n",
       "      <td>&lt;traceback object at 0x7f41d9cbc100&gt;</td>\n",
       "    </tr>\n",
       "    <tr>\n",
       "      <th>1</th>\n",
       "      <td>&lt;class 'RuntimeError'&gt;</td>\n",
       "      <td>Value 0.9991915464065282 too big</td>\n",
       "      <td>&lt;traceback object at 0x7f41d9c65240&gt;</td>\n",
       "    </tr>\n",
       "    <tr>\n",
       "      <th>2</th>\n",
       "      <td>&lt;class 'RuntimeError'&gt;</td>\n",
       "      <td>Value 0.9958139922320134 too big</td>\n",
       "      <td>&lt;traceback object at 0x7f41d9c65580&gt;</td>\n",
       "    </tr>\n",
       "    <tr>\n",
       "      <th>3</th>\n",
       "      <td>&lt;class 'RuntimeError'&gt;</td>\n",
       "      <td>Value 0.9939998253084722 too big</td>\n",
       "      <td>&lt;traceback object at 0x7f41d9c65e00&gt;</td>\n",
       "    </tr>\n",
       "    <tr>\n",
       "      <th>4</th>\n",
       "      <td>&lt;class 'RuntimeError'&gt;</td>\n",
       "      <td>Value 0.9939063969748588 too big</td>\n",
       "      <td>&lt;traceback object at 0x7f41d9c65c00&gt;</td>\n",
       "    </tr>\n",
       "    <tr>\n",
       "      <th>5</th>\n",
       "      <td>&lt;class 'RuntimeError'&gt;</td>\n",
       "      <td>Value 0.9906822003212172 too big</td>\n",
       "      <td>&lt;traceback object at 0x7f41d9c6e080&gt;</td>\n",
       "    </tr>\n",
       "    <tr>\n",
       "      <th>6</th>\n",
       "      <td>&lt;class 'ValueError'&gt;</td>\n",
       "      <td>Value 0.00261702159457855 too small</td>\n",
       "      <td>&lt;traceback object at 0x7f41d9c7fe40&gt;</td>\n",
       "    </tr>\n",
       "    <tr>\n",
       "      <th>7</th>\n",
       "      <td>&lt;class 'ValueError'&gt;</td>\n",
       "      <td>Value 0.0004944615103602557 too small</td>\n",
       "      <td>&lt;traceback object at 0x7f41d9c7f840&gt;</td>\n",
       "    </tr>\n",
       "    <tr>\n",
       "      <th>8</th>\n",
       "      <td>&lt;class 'ValueError'&gt;</td>\n",
       "      <td>Value 0.003069289614670012 too small</td>\n",
       "      <td>&lt;traceback object at 0x7f41d9c7f6c0&gt;</td>\n",
       "    </tr>\n",
       "    <tr>\n",
       "      <th>9</th>\n",
       "      <td>&lt;class 'RuntimeError'&gt;</td>\n",
       "      <td>Value 0.9978534677818921 too big</td>\n",
       "      <td>&lt;traceback object at 0x7f41d9c7f700&gt;</td>\n",
       "    </tr>\n",
       "    <tr>\n",
       "      <th>10</th>\n",
       "      <td>&lt;class 'RuntimeError'&gt;</td>\n",
       "      <td>Value 0.9943958501145419 too big</td>\n",
       "      <td>&lt;traceback object at 0x7f41d9c7fb80&gt;</td>\n",
       "    </tr>\n",
       "    <tr>\n",
       "      <th>11</th>\n",
       "      <td>&lt;class 'RuntimeError'&gt;</td>\n",
       "      <td>Value 0.9963409039538556 too big</td>\n",
       "      <td>&lt;traceback object at 0x7f41d9c7fd00&gt;</td>\n",
       "    </tr>\n",
       "    <tr>\n",
       "      <th>12</th>\n",
       "      <td>&lt;class 'RuntimeError'&gt;</td>\n",
       "      <td>Value 0.9955208485522884 too big</td>\n",
       "      <td>&lt;traceback object at 0x7f41d9c7ff80&gt;</td>\n",
       "    </tr>\n",
       "    <tr>\n",
       "      <th>13</th>\n",
       "      <td>&lt;class 'RuntimeError'&gt;</td>\n",
       "      <td>Value 0.9963537255730744 too big</td>\n",
       "      <td>&lt;traceback object at 0x7f41d9c7ff40&gt;</td>\n",
       "    </tr>\n",
       "    <tr>\n",
       "      <th>14</th>\n",
       "      <td>&lt;class 'RuntimeError'&gt;</td>\n",
       "      <td>Value 0.9916686196592612 too big</td>\n",
       "      <td>&lt;traceback object at 0x7f41d9c76c80&gt;</td>\n",
       "    </tr>\n",
       "    <tr>\n",
       "      <th>15</th>\n",
       "      <td>&lt;class 'RuntimeError'&gt;</td>\n",
       "      <td>Value 0.9990456894959899 too big</td>\n",
       "      <td>&lt;traceback object at 0x7f41d9c76c00&gt;</td>\n",
       "    </tr>\n",
       "    <tr>\n",
       "      <th>16</th>\n",
       "      <td>&lt;class 'ValueError'&gt;</td>\n",
       "      <td>Value 0.0031497749563532684 too small</td>\n",
       "      <td>&lt;traceback object at 0x7f41d9c76ac0&gt;</td>\n",
       "    </tr>\n",
       "  </tbody>\n",
       "</table>\n",
       "</div>"
      ],
      "text/plain": [
       "                      type                                  value   \n",
       "0     <class 'ValueError'>  Value 0.0006810155790507588 too small  \\\n",
       "1   <class 'RuntimeError'>       Value 0.9991915464065282 too big   \n",
       "2   <class 'RuntimeError'>       Value 0.9958139922320134 too big   \n",
       "3   <class 'RuntimeError'>       Value 0.9939998253084722 too big   \n",
       "4   <class 'RuntimeError'>       Value 0.9939063969748588 too big   \n",
       "5   <class 'RuntimeError'>       Value 0.9906822003212172 too big   \n",
       "6     <class 'ValueError'>    Value 0.00261702159457855 too small   \n",
       "7     <class 'ValueError'>  Value 0.0004944615103602557 too small   \n",
       "8     <class 'ValueError'>   Value 0.003069289614670012 too small   \n",
       "9   <class 'RuntimeError'>       Value 0.9978534677818921 too big   \n",
       "10  <class 'RuntimeError'>       Value 0.9943958501145419 too big   \n",
       "11  <class 'RuntimeError'>       Value 0.9963409039538556 too big   \n",
       "12  <class 'RuntimeError'>       Value 0.9955208485522884 too big   \n",
       "13  <class 'RuntimeError'>       Value 0.9963537255730744 too big   \n",
       "14  <class 'RuntimeError'>       Value 0.9916686196592612 too big   \n",
       "15  <class 'RuntimeError'>       Value 0.9990456894959899 too big   \n",
       "16    <class 'ValueError'>  Value 0.0031497749563532684 too small   \n",
       "\n",
       "                               traceback  \n",
       "0   <traceback object at 0x7f41d9cbc100>  \n",
       "1   <traceback object at 0x7f41d9c65240>  \n",
       "2   <traceback object at 0x7f41d9c65580>  \n",
       "3   <traceback object at 0x7f41d9c65e00>  \n",
       "4   <traceback object at 0x7f41d9c65c00>  \n",
       "5   <traceback object at 0x7f41d9c6e080>  \n",
       "6   <traceback object at 0x7f41d9c7fe40>  \n",
       "7   <traceback object at 0x7f41d9c7f840>  \n",
       "8   <traceback object at 0x7f41d9c7f6c0>  \n",
       "9   <traceback object at 0x7f41d9c7f700>  \n",
       "10  <traceback object at 0x7f41d9c7fb80>  \n",
       "11  <traceback object at 0x7f41d9c7fd00>  \n",
       "12  <traceback object at 0x7f41d9c7ff80>  \n",
       "13  <traceback object at 0x7f41d9c7ff40>  \n",
       "14  <traceback object at 0x7f41d9c76c80>  \n",
       "15  <traceback object at 0x7f41d9c76c00>  \n",
       "16  <traceback object at 0x7f41d9c76ac0>  "
      ]
     },
     "execution_count": 19,
     "metadata": {},
     "output_type": "execute_result"
    }
   ],
   "source": [
    "def fickle_func(n=1):\n",
    "    for i in range(n):\n",
    "        rnd = np.random.rand()\n",
    "        if rnd < 0.005:\n",
    "            raise ValueError(f'Value {rnd} too small')\n",
    "        elif rnd > 0.99:\n",
    "            raise RuntimeError(f'Value {rnd} too big')\n",
    "\n",
    "sc.heading('Simple usage, exit gracefully at first exception')\n",
    "with sc.tryexcept():\n",
    "    fickle_func(n=1000)\n",
    "\n",
    "sc.heading('Store all history')\n",
    "tryexc = None\n",
    "for i in range(1000):\n",
    "    with sc.tryexcept(history=tryexc, verbose=False) as tryexc:\n",
    "        fickle_func()\n",
    "tryexc.to_df()"
   ]
  },
  {
   "cell_type": "markdown",
   "metadata": {
    "tags": []
   },
   "source": [
    "## Interpolation and optimization\n",
    "\n",
    "TBC"
   ]
  },
  {
   "cell_type": "code",
   "execution_count": null,
   "metadata": {},
   "outputs": [],
   "source": []
  },
  {
   "cell_type": "markdown",
   "metadata": {},
   "source": [
    "## Animation\n",
    "\n",
    "TBC"
   ]
  },
  {
   "cell_type": "code",
   "execution_count": null,
   "metadata": {},
   "outputs": [],
   "source": []
  }
 ],
 "metadata": {
  "kernelspec": {
   "display_name": "Python 3 (ipykernel)",
   "language": "python",
   "name": "python3"
  },
  "language_info": {
   "codemirror_mode": {
    "name": "ipython",
    "version": 3
   },
   "file_extension": ".py",
   "mimetype": "text/x-python",
   "name": "python",
   "nbconvert_exporter": "python",
   "pygments_lexer": "ipython3",
   "version": "3.9.16"
  },
  "toc": {
   "base_numbering": 1,
   "nav_menu": {},
   "number_sections": true,
   "sideBar": true,
   "skip_h1_title": false,
   "title_cell": "Table of Contents",
   "title_sidebar": "Contents",
   "toc_cell": false,
   "toc_position": {},
   "toc_section_display": true,
   "toc_window_display": false
  }
 },
 "nbformat": 4,
 "nbformat_minor": 4
}
