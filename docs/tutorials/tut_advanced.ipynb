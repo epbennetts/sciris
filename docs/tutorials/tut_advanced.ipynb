{
 "cells": [
  {
   "cell_type": "markdown",
   "metadata": {},
   "source": [
    "# Advanced features\n",
    "\n",
    "Here are yet more tools that the average user won't need, but might come in handy one day."
   ]
  },
  {
   "cell_type": "markdown",
   "metadata": {},
   "source": [
    "<div class=\"alert alert-info\">\n",
    "    \n",
    "Click [here](https://mybinder.org/v2/gh/sciris/sciris/HEAD?labpath=docs%2Ftutorials%2Ftut_advanced.ipynb) to open an interactive version of this notebook.\n",
    "    \n",
    "</div>\n"
   ]
  },
  {
   "cell_type": "markdown",
   "metadata": {},
   "source": [
    "## Nested dictionaries\n",
    "\n",
    "TBC"
   ]
  },
  {
   "cell_type": "markdown",
   "metadata": {},
   "source": [
    "## Context blocks\n",
    "\n",
    "Sciris contains two context block (i.e. \"`with ... as`\") functions. `sc.capture()` captures all text output to a variable:"
   ]
  },
  {
   "cell_type": "code",
   "execution_count": null,
   "metadata": {},
   "outputs": [],
   "source": [
    "import sciris as sc\n",
    "import numpy as np\n",
    "\n",
    "def verbose_func(n=200):\n",
    "    for i in range(n):\n",
    "        print(f'Here are 5 random numbers: {np.random.rand(5)}')\n",
    "\n",
    "with sc.capture() as output:\n",
    "    verbose_func()\n",
    "\n",
    "lines = output.splitlines()\n",
    "target = '777'\n",
    "for l,line in enumerate(lines):\n",
    "    if target in line:\n",
    "        print(f'Found target {target} on line {l}: {line}')"
   ]
  },
  {
   "cell_type": "markdown",
   "metadata": {},
   "source": [
    "The other function, `sc.tryexcept()`, is a more compact way of writing `try ... except` blocks, and gives detailed control of error handling:"
   ]
  },
  {
   "cell_type": "code",
   "execution_count": null,
   "metadata": {},
   "outputs": [],
   "source": [
    "def fickle_func(n=1):\n",
    "    for i in range(n):\n",
    "        rnd = np.random.rand()\n",
    "        if rnd < 0.005:\n",
    "            raise ValueError(f'Value {rnd} too small')\n",
    "        elif rnd > 0.99:\n",
    "            raise RuntimeError(f'Value {rnd} too big')\n",
    "\n",
    "sc.heading('Simple usage, exit gracefully at first exception')\n",
    "with sc.tryexcept():\n",
    "    fickle_func(n=1000)\n",
    "\n",
    "sc.heading('Store all history')\n",
    "tryexc = None\n",
    "for i in range(1000):\n",
    "    with sc.tryexcept(history=tryexc, verbose=False) as tryexc:\n",
    "        fickle_func()\n",
    "tryexc.to_df()"
   ]
  },
  {
   "cell_type": "markdown",
   "metadata": {
    "tags": []
   },
   "source": [
    "## Interpolation and optimization\n",
    "\n",
    "TBC"
   ]
  },
  {
   "cell_type": "code",
   "execution_count": null,
   "metadata": {},
   "outputs": [],
   "source": []
  },
  {
   "cell_type": "markdown",
   "metadata": {},
   "source": [
    "## Animation\n",
    "\n",
    "TBC"
   ]
  },
  {
   "cell_type": "code",
   "execution_count": null,
   "metadata": {},
   "outputs": [],
   "source": []
  }
 ],
 "metadata": {
  "kernelspec": {
   "display_name": "Python 3 (ipykernel)",
   "language": "python",
   "name": "python3"
  },
  "language_info": {
   "codemirror_mode": {
    "name": "ipython",
    "version": 3
   },
   "file_extension": ".py",
   "mimetype": "text/x-python",
   "name": "python",
   "nbconvert_exporter": "python",
   "pygments_lexer": "ipython3",
   "version": "3.9.16"
  },
  "toc": {
   "base_numbering": 1,
   "nav_menu": {},
   "number_sections": true,
   "sideBar": true,
   "skip_h1_title": false,
   "title_cell": "Table of Contents",
   "title_sidebar": "Contents",
   "toc_cell": false,
   "toc_position": {},
   "toc_section_display": true,
   "toc_window_display": false
  }
 },
 "nbformat": 4,
 "nbformat_minor": 4
}
