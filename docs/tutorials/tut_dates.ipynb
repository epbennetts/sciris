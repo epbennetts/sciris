{
 "cells": [
  {
   "cell_type": "markdown",
   "metadata": {},
   "source": [
    "# Dates and times\n",
    "\n",
    "We'll get to the thorny issue of dates in a moment, but first let's look at a little timer function to time your code."
   ]
  },
  {
   "cell_type": "markdown",
   "metadata": {},
   "source": [
    "<div class=\"alert alert-info\">\n",
    "    \n",
    "Click [here](https://mybinder.org/v2/gh/sciris/sciris/HEAD?labpath=docs%2Ftutorials%2Ftut_dates.ipynb) to open an interactive version of this notebook.\n",
    "    \n",
    "</div>\n"
   ]
  },
  {
   "cell_type": "markdown",
   "metadata": {},
   "source": [
    "## Timing\n",
    "\n",
    "The most basic form of profiling (as covered in the previous tutorial) is just timing how long different parts of your code take. It's not _too_ hard to do this in Python:"
   ]
  },
  {
   "cell_type": "code",
   "execution_count": null,
   "metadata": {},
   "outputs": [],
   "source": [
    "import time\n",
    "import numpy as np\n",
    "\n",
    "\n",
    "n = 1000\n",
    "start = time.time()\n",
    "zeros = np.zeros((n,n))\n",
    "zeros_time = time.time()\n",
    "rand = np.random.rand(n,n)\n",
    "rand_time = time.time()\n",
    "\n",
    "print(f'Time to make zeros: {(zeros_time - start):n} s')\n",
    "print(f'Time to make random numbers: {(rand_time - zeros_time):n} s')"
   ]
  },
  {
   "cell_type": "markdown",
   "metadata": {},
   "source": [
    "As you probably could've guessed, in Sciris there's an easier way, inspired my Matlab's [tic and toc](https://www.mathworks.com/help/matlab/ref/tic.html):"
   ]
  },
  {
   "cell_type": "code",
   "execution_count": null,
   "metadata": {},
   "outputs": [],
   "source": [
    "import sciris as sc\n",
    "\n",
    "n = 1000\n",
    "\n",
    "T = sc.timer()\n",
    "\n",
    "T.tic()\n",
    "zeros = np.zeros((n,n))\n",
    "T.toc('Time to make zeros')\n",
    "\n",
    "T.tic()\n",
    "rand = np.random.rand(n,n)\n",
    "T.toc('Time to make random numbers')"
   ]
  },
  {
   "cell_type": "markdown",
   "metadata": {},
   "source": [
    "We can simplify this even further: we often call `toc()` followed by `tic()`, so instead we can just call `toctic()` or `tt()` for short; w can also omit the first `tic()`:"
   ]
  },
  {
   "cell_type": "code",
   "execution_count": null,
   "metadata": {},
   "outputs": [],
   "source": [
    "T = sc.timer()\n",
    "\n",
    "zeros = np.zeros((n,n))\n",
    "T.tt('Time to make zeros')\n",
    "\n",
    "rand = np.random.rand(n,n)\n",
    "T.tt('Time to make random numbers')"
   ]
  },
  {
   "cell_type": "markdown",
   "metadata": {},
   "source": [
    "You can also use `sc.timer()` in a `with` block, which is perhaps most intuitive of all:"
   ]
  },
  {
   "cell_type": "code",
   "execution_count": null,
   "metadata": {},
   "outputs": [],
   "source": [
    "with sc.timer('Time to make zeros'):\n",
    "    zeros = np.zeros((n,n))\n",
    "\n",
    "with sc.timer('Time to make random numbers'):\n",
    "    rand = np.random.rand(n,n)"
   ]
  },
  {
   "cell_type": "markdown",
   "metadata": {
    "tags": []
   },
   "source": [
    "## Dates\n",
    "\n",
    "There are lots of different common date formats in Python, which probably arose through a process [like this](https://xkcd.com/927/). Python's built-in one is [`datetime.datetime`](https://docs.python.org/3/library/datetime.html). This format has the basics, but is hard to work with for things like plotting. Numpy made their own, called [`datetime64`](https://numpy.org/doc/stable/reference/arrays.datetime.html), which addresses some of these issues, but isn't compatible with anything else. Then pandas introduced their own [`Timestamp`](https://pandas.pydata.org/pandas-docs/stable/reference/api/pandas.Timestamp.html), which is kind of like a combination of both.\n",
    "\n",
    "You will probably be relieved to know that Sciris does _not_ introduce a new datetime format, but instead tries to make it easier to work with the other formats, particularly by being able to easily interconvert them."
   ]
  },
  {
   "cell_type": "code",
   "execution_count": null,
   "metadata": {},
   "outputs": [],
   "source": [
    "import sciris as sc\n",
    "\n",
    "sc.findinds([1,2,3],2)"
   ]
  },
  {
   "cell_type": "code",
   "execution_count": null,
   "metadata": {},
   "outputs": [],
   "source": []
  }
 ],
 "metadata": {
  "kernelspec": {
   "display_name": "Python 3 (ipykernel)",
   "language": "python",
   "name": "python3"
  },
  "language_info": {
   "codemirror_mode": {
    "name": "ipython",
    "version": 3
   },
   "file_extension": ".py",
   "mimetype": "text/x-python",
   "name": "python",
   "nbconvert_exporter": "python",
   "pygments_lexer": "ipython3",
   "version": "3.9.16"
  },
  "toc": {
   "base_numbering": 1,
   "nav_menu": {},
   "number_sections": true,
   "sideBar": true,
   "skip_h1_title": false,
   "title_cell": "Table of Contents",
   "title_sidebar": "Contents",
   "toc_cell": false,
   "toc_position": {},
   "toc_section_display": true,
   "toc_window_display": false
  }
 },
 "nbformat": 4,
 "nbformat_minor": 4
}
