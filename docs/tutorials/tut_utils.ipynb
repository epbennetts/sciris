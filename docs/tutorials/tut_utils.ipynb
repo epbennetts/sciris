{
 "cells": [
  {
   "cell_type": "markdown",
   "metadata": {},
   "source": [
    "# Other tools\n",
    "\n",
    "Pretty much no one hears the word \"utilities\" and gets excited. But you can do exciting things with boring utilities. Here's a quick tour."
   ]
  },
  {
   "cell_type": "markdown",
   "metadata": {},
   "source": [
    "<div class=\"alert alert-info\">\n",
    "    \n",
    "Click [here](https://mybinder.org/v2/gh/sciris/sciris/HEAD?labpath=docs%2Ftutorials%2Ftut_utils.ipynb) to open an interactive version of this notebook.\n",
    "    \n",
    "</div>\n"
   ]
  },
  {
   "cell_type": "markdown",
   "metadata": {
    "tags": []
   },
   "source": [
    "## Handling types\n",
    "\n",
    "### Converting types\n",
    "\n",
    "Python is _pretty_ forgiving with types, but Sciris takes forgiveness to the next level. For example, in plain Python (since v3.9) you can merge two dicts with `dict1 | dict2`, which is pretty cool, but in Sciris you can also merge no input (i.e. `None`). Why is this useful? It lets you handle flexible user input, such as:"
   ]
  },
  {
   "cell_type": "code",
   "execution_count": null,
   "metadata": {},
   "outputs": [],
   "source": [
    "import sciris as sc\n",
    "import numpy as np\n",
    "\n",
    "def default_json(json=None, **kwargs):\n",
    "    default = dict(some=1, default=2, values=3)\n",
    "    output = sc.mergedicts(default, json, kwargs)\n",
    "    return output\n",
    "\n",
    "dj1 = default_json()\n",
    "dj2 = default_json(dict(my=4, json=5), rocks=6)\n",
    "print(dj1)\n",
    "print(dj2)"
   ]
  },
  {
   "cell_type": "markdown",
   "metadata": {},
   "source": [
    "Likewise, you know that if you want to add an item to a list, you use `append`, and if you want to add a list to a list, you use `extend`, but wouldn't it be nice if you could have Python figure this out?"
   ]
  },
  {
   "cell_type": "code",
   "execution_count": null,
   "metadata": {},
   "outputs": [],
   "source": [
    "arg1 = ['an', 'actual', 'list']\n",
    "arg2 = 'a single item'\n",
    "arg3 = None\n",
    "arg4 = {'not':'a list'}\n",
    "\n",
    "my_list = sc.mergelists(arg1, arg2, arg3, arg4)\n",
    "print(my_list)"
   ]
  },
  {
   "cell_type": "markdown",
   "metadata": {},
   "source": [
    "There are also functions `sc.tolist()` and `sc.toarray()` that convert anything \"sensible\" to a list and array, respectively. The former is especially useful for ensuring that a user input, for example, can always be safely iterated over:"
   ]
  },
  {
   "cell_type": "code",
   "execution_count": null,
   "metadata": {},
   "outputs": [],
   "source": [
    "def duplicate(arg, n=2):\n",
    "    arglist = sc.tolist(arg)\n",
    "    newlist = []\n",
    "    for arg in arglist:\n",
    "        newlist += [arg]*n\n",
    "    return newlist\n",
    "\n",
    "print(duplicate('foo'))\n",
    "print(duplicate(['foo', 'bar']))"
   ]
  },
  {
   "cell_type": "code",
   "execution_count": null,
   "metadata": {},
   "outputs": [],
   "source": [
    "def power(arg, n=2):\n",
    "    arr = sc.toarray(arg)\n",
    "    new = arr**n\n",
    "    output = sc.autolist() # Create an automatically incrementing list\n",
    "    for i,v in enumerate(new):\n",
    "        output += f'Entry {i}={arr[i]} has value {v}'\n",
    "    return output\n",
    "\n",
    "sc.pp(power(2))\n",
    "sc.pp(power([1,2,3,4]))"
   ]
  },
  {
   "cell_type": "markdown",
   "metadata": {},
   "source": [
    "\"But\", you protest, \"what's the point? Can't you just use `np.array()` to turn something into an array?\" Let's try it:"
   ]
  },
  {
   "cell_type": "code",
   "execution_count": null,
   "metadata": {},
   "outputs": [],
   "source": [
    "try:\n",
    "    def power(arg, n=2):\n",
    "        arr = np.array(arg)\n",
    "        new = arr**n\n",
    "        output = sc.autolist()\n",
    "        for i,v in enumerate(new):\n",
    "            output += f'Entry {i}={arr[i]} has value {v}'\n",
    "        return output\n",
    "\n",
    "    sc.pp(power(2))\n",
    "    sc.pp(power([1,2,3,4]))\n",
    "except:\n",
    "    print(f'Failed!! {sc.traceback()}') # Use sc.traceback() as a shortcut to get the exception"
   ]
  },
  {
   "cell_type": "markdown",
   "metadata": {},
   "source": [
    "So: often you can, yes, but not always. `sc.toarray()` will handle edge cases more carefully."
   ]
  },
  {
   "cell_type": "markdown",
   "metadata": {},
   "source": [
    "### Checking types\n",
    "\n",
    "Sciris also includes some simple type checking functions. For example, just to check if something is a number, you need to import the whole `numbers` module:"
   ]
  },
  {
   "cell_type": "code",
   "execution_count": null,
   "metadata": {},
   "outputs": [],
   "source": [
    "v1 = 3\n",
    "v2 = 3.145j\n",
    "v3 = '3.145'\n",
    "\n",
    "print(sc.isnumber(v1)) # Equivalent to isinstance(v1, numbers.Number)\n",
    "print(sc.isnumber(v2))\n",
    "print(sc.isnumber(v3))"
   ]
  },
  {
   "cell_type": "markdown",
   "metadata": {},
   "source": [
    "## Miscellaneous tools\n",
    "\n",
    "Here are yet more tools that can be helpful, but don't really belong anywhere else:"
   ]
  },
  {
   "cell_type": "markdown",
   "metadata": {},
   "source": [
    "### Downloading files\n",
    "\n",
    "Much of the web runs on Python, and there are some super powerful web libraries (such as [requests](https://requests.readthedocs.io/en/latest/)). But what if you don't need something super powerful, and want something that just works? `sc.download()` does just that, and can either load the downloaded data directly into memory, or save it to disk:"
   ]
  },
  {
   "cell_type": "code",
   "execution_count": null,
   "metadata": {},
   "outputs": [],
   "source": [
    "# Define the URLs to download -- from Project Gutenberg\n",
    "urls = [\n",
    "    'https://www.gutenberg.org/cache/epub/1513/pg1513.txt', # Romeo and Juliet\n",
    "    'https://www.gutenberg.org/cache/epub/11/pg11.txt', # Alice in Wonderland\n",
    "]\n",
    "\n",
    "# Download the data\n",
    "data = sc.download(urls, save=False)\n",
    "\n",
    "# Count occurrences of \"Juliet\" in Romeo and Juliet, and \"Alice\" in Alice in Wonderland\n",
    "print(f\"Juliet is named {data[0].lower().count('juliet')} times.\")\n",
    "print(f\"Alice is named {data[1].lower().count('alice')} times.\")"
   ]
  },
  {
   "cell_type": "markdown",
   "metadata": {},
   "source": [
    "### Running commands\n",
    "\n",
    "If you use Linux (or Mac), you probably do a lot of things in the terminal. There are several ways of doing this in Python, including `os.system()`, `subprocess.run()`, and `subprocess.Popen()`. But if you want to just quickly run something, you can use `sc.runcommand()`:"
   ]
  },
  {
   "cell_type": "code",
   "execution_count": null,
   "metadata": {},
   "outputs": [],
   "source": [
    "out = sc.runcommand('ls *.ipynb', printoutput=True) # NB, won't work on Windows!\n",
    "print(f'There are {len(out.splitlines())} Sciris tutorials.')"
   ]
  },
  {
   "cell_type": "markdown",
   "metadata": {},
   "source": [
    "Note that in general, terminal/shell commands are platform specific. The better way of listing the tutorials would be `sc.getfilelist('*.ipynb')`."
   ]
  }
 ],
 "metadata": {
  "kernelspec": {
   "display_name": "Python 3 (ipykernel)",
   "language": "python",
   "name": "python3"
  },
  "language_info": {
   "codemirror_mode": {
    "name": "ipython",
    "version": 3
   },
   "file_extension": ".py",
   "mimetype": "text/x-python",
   "name": "python",
   "nbconvert_exporter": "python",
   "pygments_lexer": "ipython3",
   "version": "3.9.16"
  },
  "toc": {
   "base_numbering": 1,
   "nav_menu": {},
   "number_sections": true,
   "sideBar": true,
   "skip_h1_title": false,
   "title_cell": "Table of Contents",
   "title_sidebar": "Contents",
   "toc_cell": false,
   "toc_position": {},
   "toc_section_display": true,
   "toc_window_display": false
  }
 },
 "nbformat": 4,
 "nbformat_minor": 4
}
