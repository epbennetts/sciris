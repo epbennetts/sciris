{
 "cells": [
  {
   "cell_type": "markdown",
   "metadata": {},
   "source": [
    "# Other tools\n",
    "\n",
    "Pretty much no one hears the word \"utilities\" and gets excited. But you can do exciting things with boring utilities. Here's a quick tour."
   ]
  },
  {
   "cell_type": "markdown",
   "metadata": {},
   "source": [
    "<div class=\"alert alert-info\">\n",
    "    \n",
    "Click [here](https://mybinder.org/v2/gh/sciris/sciris/HEAD?labpath=docs%2Ftutorials%2Ftut_intro.ipynb) to open an interactive version of this notebook.\n",
    "    \n",
    "</div>\n"
   ]
  },
  {
   "cell_type": "markdown",
   "metadata": {
    "tags": []
   },
   "source": [
    "## Handling types\n",
    "\n",
    "### Converting types\n",
    "\n",
    "Python is _pretty_ forgiving with types, but Sciris takes forgiveness to the next level. For example, in plain Python (since v3.9) you can merge two dicts with `dict1 | dict2`, which is pretty cool, but in Sciris you can also merge no input (i.e. `None`). Why is this useful? It lets you handle flexible user input, such as:"
   ]
  },
  {
   "cell_type": "code",
   "execution_count": 11,
   "metadata": {},
   "outputs": [
    {
     "name": "stdout",
     "output_type": "stream",
     "text": [
      "{'some': 1, 'default': 2, 'values': 3}\n",
      "{'some': 1, 'default': 2, 'values': 3, 'my': 4, 'json': 5, 'rocks': 6}\n"
     ]
    }
   ],
   "source": [
    "import sciris as sc\n",
    "import numpy as np\n",
    "\n",
    "def default_json(json=None, **kwargs):\n",
    "    default = dict(some=1, default=2, values=3)\n",
    "    output = sc.mergedicts(default, json, kwargs)\n",
    "    return output\n",
    "\n",
    "dj1 = default_json()\n",
    "dj2 = default_json(dict(my=4, json=5), rocks=6)\n",
    "print(dj1)\n",
    "print(dj2)"
   ]
  },
  {
   "cell_type": "markdown",
   "metadata": {},
   "source": [
    "Likewise, you know that if you want to add an item to a list, you use `append`, and if you want to add a list to a list, you use `extend`, but wouldn't it be nice if you could have Python figure this out?"
   ]
  },
  {
   "cell_type": "code",
   "execution_count": 2,
   "metadata": {},
   "outputs": [
    {
     "name": "stdout",
     "output_type": "stream",
     "text": [
      "['an', 'actual', 'list', 'a single item', {'not': 'a list'}]\n"
     ]
    }
   ],
   "source": [
    "arg1 = ['an', 'actual', 'list']\n",
    "arg2 = 'a single item'\n",
    "arg3 = None\n",
    "arg4 = {'not':'a list'}\n",
    "\n",
    "my_list = sc.mergelists(arg1, arg2, arg3, arg4)\n",
    "print(my_list)"
   ]
  },
  {
   "cell_type": "markdown",
   "metadata": {},
   "source": [
    "There are also functions `sc.tolist()` and `sc.toarray()` that convert anything \"sensible\" to a list and array, respectively. The former is especially useful for ensuring that a user input, for example, can always be safely iterated over:"
   ]
  },
  {
   "cell_type": "code",
   "execution_count": 3,
   "metadata": {},
   "outputs": [
    {
     "name": "stdout",
     "output_type": "stream",
     "text": [
      "['foo', 'foo']\n",
      "['foo', 'foo', 'bar', 'bar']\n"
     ]
    }
   ],
   "source": [
    "def duplicate(arg, n=2):\n",
    "    arglist = sc.tolist(arg)\n",
    "    newlist = []\n",
    "    for arg in arglist:\n",
    "        newlist += [arg]*n\n",
    "    return newlist\n",
    "\n",
    "print(duplicate('foo'))\n",
    "print(duplicate(['foo', 'bar']))"
   ]
  },
  {
   "cell_type": "code",
   "execution_count": 16,
   "metadata": {},
   "outputs": [
    {
     "name": "stdout",
     "output_type": "stream",
     "text": [
      "['Entry 0=2 has value 4']\n",
      "['Entry 0=1 has value 1',\n",
      " 'Entry 1=2 has value 4',\n",
      " 'Entry 2=3 has value 9',\n",
      " 'Entry 3=4 has value 16']\n"
     ]
    }
   ],
   "source": [
    "def power(arg, n=2):\n",
    "    arr = sc.toarray(arg)\n",
    "    new = arr**n\n",
    "    output = sc.autolist() # Create an automatically incrementing list\n",
    "    for i,v in enumerate(new):\n",
    "        output += f'Entry {i}={arr[i]} has value {v}'\n",
    "    return output\n",
    "\n",
    "sc.pp(power(2))\n",
    "sc.pp(power([1,2,3,4]))"
   ]
  },
  {
   "cell_type": "markdown",
   "metadata": {},
   "source": [
    "\"But\", you protest, \"what's the point? Can't you just use `np.array()` to turn something into an array?\" Let's try it:"
   ]
  },
  {
   "cell_type": "code",
   "execution_count": 17,
   "metadata": {},
   "outputs": [
    {
     "ename": "TypeError",
     "evalue": "'numpy.int64' object is not iterable",
     "output_type": "error",
     "traceback": [
      "\u001b[0;31m---------------------------------------------------------------------------\u001b[0m",
      "\u001b[0;31mTypeError\u001b[0m                                 Traceback (most recent call last)",
      "Cell \u001b[0;32mIn[17], line 9\u001b[0m\n\u001b[1;32m      6\u001b[0m         output \u001b[38;5;241m+\u001b[39m\u001b[38;5;241m=\u001b[39m \u001b[38;5;124mf\u001b[39m\u001b[38;5;124m'\u001b[39m\u001b[38;5;124mEntry \u001b[39m\u001b[38;5;132;01m{\u001b[39;00mi\u001b[38;5;132;01m}\u001b[39;00m\u001b[38;5;124m=\u001b[39m\u001b[38;5;132;01m{\u001b[39;00marr[i]\u001b[38;5;132;01m}\u001b[39;00m\u001b[38;5;124m has value \u001b[39m\u001b[38;5;132;01m{\u001b[39;00mv\u001b[38;5;132;01m}\u001b[39;00m\u001b[38;5;124m'\u001b[39m\n\u001b[1;32m      7\u001b[0m     \u001b[38;5;28;01mreturn\u001b[39;00m output\n\u001b[0;32m----> 9\u001b[0m sc\u001b[38;5;241m.\u001b[39mpp(\u001b[43mpower\u001b[49m\u001b[43m(\u001b[49m\u001b[38;5;241;43m2\u001b[39;49m\u001b[43m)\u001b[49m)\n\u001b[1;32m     10\u001b[0m sc\u001b[38;5;241m.\u001b[39mpp(power([\u001b[38;5;241m1\u001b[39m,\u001b[38;5;241m2\u001b[39m,\u001b[38;5;241m3\u001b[39m,\u001b[38;5;241m4\u001b[39m]))\n",
      "Cell \u001b[0;32mIn[17], line 5\u001b[0m, in \u001b[0;36mpower\u001b[0;34m(arg, n)\u001b[0m\n\u001b[1;32m      3\u001b[0m new \u001b[38;5;241m=\u001b[39m arr\u001b[38;5;241m*\u001b[39m\u001b[38;5;241m*\u001b[39mn\n\u001b[1;32m      4\u001b[0m output \u001b[38;5;241m=\u001b[39m sc\u001b[38;5;241m.\u001b[39mautolist()\n\u001b[0;32m----> 5\u001b[0m \u001b[38;5;28;01mfor\u001b[39;00m i,v \u001b[38;5;129;01min\u001b[39;00m \u001b[38;5;28;43menumerate\u001b[39;49m\u001b[43m(\u001b[49m\u001b[43mnew\u001b[49m\u001b[43m)\u001b[49m:\n\u001b[1;32m      6\u001b[0m     output \u001b[38;5;241m+\u001b[39m\u001b[38;5;241m=\u001b[39m \u001b[38;5;124mf\u001b[39m\u001b[38;5;124m'\u001b[39m\u001b[38;5;124mEntry \u001b[39m\u001b[38;5;132;01m{\u001b[39;00mi\u001b[38;5;132;01m}\u001b[39;00m\u001b[38;5;124m=\u001b[39m\u001b[38;5;132;01m{\u001b[39;00marr[i]\u001b[38;5;132;01m}\u001b[39;00m\u001b[38;5;124m has value \u001b[39m\u001b[38;5;132;01m{\u001b[39;00mv\u001b[38;5;132;01m}\u001b[39;00m\u001b[38;5;124m'\u001b[39m\n\u001b[1;32m      7\u001b[0m \u001b[38;5;28;01mreturn\u001b[39;00m output\n",
      "\u001b[0;31mTypeError\u001b[0m: 'numpy.int64' object is not iterable"
     ]
    }
   ],
   "source": [
    "def power(arg, n=2):\n",
    "    arr = np.array(arg)\n",
    "    new = arr**n\n",
    "    output = sc.autolist()\n",
    "    for i,v in enumerate(new):\n",
    "        output += f'Entry {i}={arr[i]} has value {v}'\n",
    "    return output\n",
    "\n",
    "sc.pp(power(2))\n",
    "sc.pp(power([1,2,3,4]))"
   ]
  },
  {
   "cell_type": "markdown",
   "metadata": {},
   "source": [
    "So: often you can, yes, but not always. `sc.toarray()` will handle edge cases more carefully."
   ]
  },
  {
   "cell_type": "markdown",
   "metadata": {},
   "source": [
    "### Checking types\n",
    "\n",
    "Sciris also includes some simple type checking functions. For example, just to check if something is a number, you need to import the whole `numbers` module:"
   ]
  },
  {
   "cell_type": "code",
   "execution_count": 19,
   "metadata": {},
   "outputs": [
    {
     "name": "stdout",
     "output_type": "stream",
     "text": [
      "True\n",
      "True\n",
      "False\n"
     ]
    }
   ],
   "source": [
    "v1 = 3\n",
    "v2 = 3.145j\n",
    "v3 = '3.145'\n",
    "\n",
    "print(sc.isnumber(v1)) # Equivalent to isinstance(v1, numbers.Number)\n",
    "print(sc.isnumber(v2))\n",
    "print(sc.isnumber(v3))"
   ]
  },
  {
   "cell_type": "markdown",
   "metadata": {},
   "source": [
    "Likewise, the common way of checking if something is a string is `isinstance(obj, str)`. But this has some surprising behavior:"
   ]
  },
  {
   "cell_type": "code",
   "execution_count": null,
   "metadata": {},
   "outputs": [],
   "source": []
  }
 ],
 "metadata": {
  "kernelspec": {
   "display_name": "Python 3 (ipykernel)",
   "language": "python",
   "name": "python3"
  },
  "language_info": {
   "codemirror_mode": {
    "name": "ipython",
    "version": 3
   },
   "file_extension": ".py",
   "mimetype": "text/x-python",
   "name": "python",
   "nbconvert_exporter": "python",
   "pygments_lexer": "ipython3",
   "version": "3.9.16"
  },
  "toc": {
   "base_numbering": 1,
   "nav_menu": {},
   "number_sections": true,
   "sideBar": true,
   "skip_h1_title": false,
   "title_cell": "Table of Contents",
   "title_sidebar": "Contents",
   "toc_cell": false,
   "toc_position": {},
   "toc_section_display": true,
   "toc_window_display": false
  }
 },
 "nbformat": 4,
 "nbformat_minor": 4
}
