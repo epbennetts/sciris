{
 "cells": [
  {
   "cell_type": "markdown",
   "metadata": {},
   "source": [
    "# Files and versioning\n",
    "\n",
    "Unless you are a string theorist, at some point you're probably going to want to save and load some data. This tutorial covers some of Sciris' tools for doing that more easily."
   ]
  },
  {
   "cell_type": "markdown",
   "metadata": {},
   "source": [
    "<div class=\"alert alert-info\">\n",
    "    \n",
    "Click [here](https://mybinder.org/v2/gh/sciris/sciris/HEAD?labpath=docs%2Ftutorials%2Ftut_files.ipynb) to open an interactive version of this notebook.\n",
    "\n",
    "</div>\n"
   ]
  },
  {
   "cell_type": "markdown",
   "metadata": {},
   "source": [
    "<div class=\"alert alert-warning\">\n",
    "    <b>Warning!</b> The tools here are powerful, which also makes them dangerous. Unless it's in a simple text format like JSON or CSV, loading a datafile can run arbitrary code on your computer, just like running a Python script can. If you wouldn't run a Python file from some source, don't open a data file from that source either.\n",
    "</div>"
   ]
  },
  {
   "cell_type": "markdown",
   "metadata": {
    "tags": []
   },
   "source": [
    "## Saving and loading literally anything\n",
    "\n",
    "Let's assume you're mostly just saving and loading files you've created yourself or from trusted colleagues, not opening email attachments from the branch of the local mafia. Then everything here is absolutely fine.\n",
    "\n",
    "Let's revisit our sim from the first tutorial:"
   ]
  },
  {
   "cell_type": "code",
   "execution_count": null,
   "metadata": {},
   "outputs": [],
   "source": [
    "import sciris as sc\n",
    "import numpy as np\n",
    "import pylab as pl\n",
    "sc.options(jupyter=True) # To make plots nicer\n",
    "\n",
    "class Sim:\n",
    "    \n",
    "    def __init__(self, days, trials):\n",
    "        self.days = days\n",
    "        self.trials = trials\n",
    "    \n",
    "    def run(self):\n",
    "        self.x = np.arange(self.days)\n",
    "        self.y = np.cumsum(np.random.randn(self.days, self.trials)**3, axis=0)\n",
    "    \n",
    "    def plot(self):\n",
    "        with pl.style.context('sciris.fancy'):\n",
    "            pl.plot(self.x, self.y, alpha=0.6)\n",
    "\n",
    "# Run and save\n",
    "sim = Sim(days=30, trials=5)\n",
    "sim.run()\n",
    "sc.save('my-sim.obj', sim) # Save any Python object to disk\n",
    "\n",
    "# Load and plot\n",
    "new_sim = sc.load('my-sim.obj') # Load any Python object\n",
    "new_sim.plot()"
   ]
  },
  {
   "cell_type": "markdown",
   "metadata": {},
   "source": [
    "We can create a sim (which of course doesn't have to be a sim, it can be absolutely any object), then reload it from disk and it works just like new – even calling methods works! What's happening here? Under the hood, `sc.save()` saves the object as a [gzipped](https://docs.python.org/3/library/gzip.html) (compressed) [pickle]](https://docs.python.org/3/library/pickle.html) (byte stream). Pickles are how Python sends objects internally, so can handle almost anything. (For the few corner cases that `pickle` can't handle, `sc.save()` falls back on [dill](https://dill.readthedocs.io/en/latest/), which really can handle everything.) \n",
    "\n",
    "There are also other compression options than gzip ([zstandard](https://python-zstandard.readthedocs.io/en/latest/) or no compression), but you probably don't need to worry about these. (If you _really_ care about performance, then `sc.zsave()`, which uses `zstandard` by default, is slightly faster than `sc.save()` – but regardless of how a file was saved you can load it with `sc.load()`."
   ]
  },
  {
   "cell_type": "markdown",
   "metadata": {},
   "source": [
    "## Saving and loading JSON and YAML\n",
    "\n",
    "While `sc.save()` and `sc.load()` are great for many things, they _aren't_ great for just sharing data. First, they're not compatible with anything other than Sciris, so if you try to share one of those files with, say, an R user, they won't be able to open them. \n",
    "\n",
    "If you just have data and don't want to save the objects, you should save just the data. If you want to save to CSV or Excel (i.e., data that looks like a spreadsheet), you should convert it to a dataframe (`df = sc.dataframe(data)`), then save it from there (`df.to_excel()` and `df.to_csv()`, respectively). \n",
    "\n",
    "But if you want to save data that's a little more complex, you should consider JSON: it's fast, it's easy for humans to read, and absolutely everything loads it. While typically a JSON maps onto a Python `dict`, Sciris will take pretty much any object and save out the JSONifiable parts of it:"
   ]
  },
  {
   "cell_type": "code",
   "execution_count": null,
   "metadata": {},
   "outputs": [],
   "source": [
    "# Try saving our sim as a JSON\n",
    "sc.savejson('my-sim.json', sim)\n",
    "\n",
    "# Load it as a JSON\n",
    "sim_json = sc.loadjson('my-sim.json')\n",
    "print(sim_json)"
   ]
  },
  {
   "cell_type": "markdown",
   "metadata": {},
   "source": [
    "It's not exactly beautiful, and it's not as powerful as `sc.save()` (for example, `sim_json.plot()` doesn't exist), but it has all the _data_, exactly as it was laid out in the original object:"
   ]
  },
  {
   "cell_type": "code",
   "execution_count": null,
   "metadata": {},
   "outputs": [],
   "source": [
    "print(f\"{sim_json['x'] = }\")\n",
    "print(f\"{sim_json['y'][0] = }\")"
   ]
  },
  {
   "cell_type": "markdown",
   "metadata": {},
   "source": [
    "(Note that when exported to JSON and loaded back again, everything is in default Python types – so the data is now a list of lists rather than a 2D Numpy array.)"
   ]
  },
  {
   "cell_type": "markdown",
   "metadata": {},
   "source": [
    "If you're not super familiar with [YAML](https://yaml.org/), you might think of it as that quirky config file format with lots of colons and indents. It _is_ that, but it's also a powerful extension to JSON – every JSON file is also a valid YAML file, but the reverse is not true (i.e., JSON is a subset of YAML). Of most interest to you, dear scientist, is that you can add comments to YAML files. Consider this (relatively) common situation:"
   ]
  },
  {
   "cell_type": "code",
   "execution_count": null,
   "metadata": {},
   "outputs": [],
   "source": [
    "raw_json = '''\n",
    "{\"variables\": {\n",
    "    \"timepoints\": [0,1,2,3,4,5],\n",
    "    \"really_important_variable\": 12.566370614359172\n",
    "  }\n",
    "}\n",
    "'''\n",
    "data = sc.readjson(raw_json)\n",
    "print(data)"
   ]
  },
  {
   "cell_type": "markdown",
   "metadata": {},
   "source": [
    "Now you're tearing your hair out. Where did 12.566370614359172? It looks vaguely familiar, or at least it did to the you from 6 months ago who wrote it. But with YAML, you can have your data and comment it too:"
   ]
  },
  {
   "cell_type": "code",
   "execution_count": null,
   "metadata": {},
   "outputs": [],
   "source": [
    "raw_yaml = '''\n",
    "{\"variables\": {\n",
    "    \"timepoints\": [0,1,2,3,4,5],\n",
    "    \"really_important_variable\": 12.566370614359172 # This is just 4π lol\n",
    "  }\n",
    "}\n",
    "'''\n",
    "data = sc.readyaml(raw_yaml)\n",
    "print(data)"
   ]
  },
  {
   "cell_type": "markdown",
   "metadata": {},
   "source": [
    "## Other file functions\n",
    "\n",
    "Sciris includes a number of other file utilities. For example, to get a list of files, you can use `sc.getfilelist()`:"
   ]
  },
  {
   "cell_type": "code",
   "execution_count": null,
   "metadata": {},
   "outputs": [],
   "source": [
    "sc.getfilelist('*.ipynb')"
   ]
  },
  {
   "cell_type": "markdown",
   "metadata": {},
   "source": [
    "Sometimes it's useful to get the folder for the current file, since sometimes you're calling it from a different place, and want the relative paths to remain the same (for example, to load something from a subfolder):"
   ]
  },
  {
   "cell_type": "code",
   "execution_count": null,
   "metadata": {},
   "outputs": [],
   "source": [
    "sc.thispath()"
   ]
  },
  {
   "cell_type": "markdown",
   "metadata": {},
   "source": [
    "(This looks wonky here because this notebook is run on some random cloud server, but it should look more normal if you do it at home!)\n",
    "\n",
    "Most Sciris file functions can return either strings or [Paths](https://docs.python.org/3/library/pathlib.html). If you've never used `pathlib`, it's a really powerful way of handling paths. But it's also really intuitive. For example, to create a `data` subfolder that's always relative to this notebook regardless of where it's run from, you can do"
   ]
  },
  {
   "cell_type": "code",
   "execution_count": null,
   "metadata": {},
   "outputs": [],
   "source": [
    "datafolder = sc.thispath() / 'data'\n",
    "print(datafolder)"
   ]
  },
  {
   "cell_type": "markdown",
   "metadata": {},
   "source": [
    "(Note: this path might look a little janky because this notebook was run on some cloud server. It will probably look more normal for you!)\n",
    "\n",
    "Sciris makes it easy to ensure that a path exists:"
   ]
  },
  {
   "cell_type": "code",
   "execution_count": null,
   "metadata": {},
   "outputs": [],
   "source": [
    "datafile = sc.makefilepath(datafolder / 'my-data.csv', makedirs=True)\n",
    "print(datafile)"
   ]
  },
  {
   "cell_type": "markdown",
   "metadata": {},
   "source": [
    "Sciris usually handles all this internally, but this can be useful for using with non-Sciris functions, e.g."
   ]
  },
  {
   "cell_type": "code",
   "execution_count": null,
   "metadata": {},
   "outputs": [],
   "source": [
    "np.savetxt('data/my-data.csv', np.random.rand(2,2)) # Would give an error without sc.makefilepath() above"
   ]
  },
  {
   "cell_type": "markdown",
   "metadata": {},
   "source": [
    "Lastly, you can clean up with yourself with `sc.rmpath()`, which will automatically figure out whether to use [`os.remove()`](https://docs.python.org/3/library/os.html#os.remove) (which works for files but not folders) or [`shutil.rmtree()`](https://docs.python.org/3/library/shutil.html#shutil.rmtree) (which works for folders but not files):"
   ]
  },
  {
   "cell_type": "code",
   "execution_count": null,
   "metadata": {},
   "outputs": [],
   "source": [
    "sc.rmpath('data/my-data.csv')"
   ]
  }
 ],
 "metadata": {
  "kernelspec": {
   "display_name": "Python 3 (ipykernel)",
   "language": "python",
   "name": "python3"
  },
  "language_info": {
   "codemirror_mode": {
    "name": "ipython",
    "version": 3
   },
   "file_extension": ".py",
   "mimetype": "text/x-python",
   "name": "python",
   "nbconvert_exporter": "python",
   "pygments_lexer": "ipython3",
   "version": "3.9.16"
  },
  "toc": {
   "base_numbering": 1,
   "nav_menu": {},
   "number_sections": true,
   "sideBar": true,
   "skip_h1_title": false,
   "title_cell": "Table of Contents",
   "title_sidebar": "Contents",
   "toc_cell": false,
   "toc_position": {},
   "toc_section_display": true,
   "toc_window_display": false
  }
 },
 "nbformat": 4,
 "nbformat_minor": 4
}
